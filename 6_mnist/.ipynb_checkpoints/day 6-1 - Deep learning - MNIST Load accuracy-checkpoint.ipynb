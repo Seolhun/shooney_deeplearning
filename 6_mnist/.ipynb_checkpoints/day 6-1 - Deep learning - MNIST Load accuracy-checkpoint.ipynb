{
 "cells": [
  {
   "cell_type": "code",
   "execution_count": 2,
   "metadata": {
    "collapsed": false
   },
   "outputs": [],
   "source": [
    "# coding: utf-8\n",
    "import sys, os\n",
    "sys.path.append(os.pardir)  # 상위 디렉토리 추가\n",
    "import numpy as np\n",
    "import pickle\n",
    "from dataset.mnist import load_mnist\n",
    "from common.functions import sigmoid, softmax"
   ]
  },
  {
   "cell_type": "code",
   "execution_count": 3,
   "metadata": {
    "collapsed": true
   },
   "outputs": [],
   "source": [
    "def get_data():\n",
    "    (x_train, t_train), (x_test, t_test) = load_mnist(normalize=True, flatten=True, one_hot_label=False)\n",
    "    return x_test, t_test"
   ]
  },
  {
   "cell_type": "code",
   "execution_count": 4,
   "metadata": {
    "collapsed": true
   },
   "outputs": [],
   "source": [
    "def init_network():\n",
    "    with open(\"sample_weight.pkl\", 'rb') as f:\n",
    "        network = pickle.load(f)\n",
    "    return network"
   ]
  },
  {
   "cell_type": "code",
   "execution_count": 5,
   "metadata": {
    "collapsed": true
   },
   "outputs": [],
   "source": [
    "def predict(network, x):\n",
    "    W1, W2, W3 = network['W1'], network['W2'], network['W3']\n",
    "    b1, b2, b3 = network['b1'], network['b2'], network['b3']\n",
    "\n",
    "    a1 = np.dot(x, W1) + b1\n",
    "    z1 = sigmoid(a1)\n",
    "    a2 = np.dot(z1, W2) + b2\n",
    "    z2 = sigmoid(a2)\n",
    "    a3 = np.dot(z2, W3) + b3\n",
    "    y = softmax(a3)\n",
    "\n",
    "    return y"
   ]
  },
  {
   "cell_type": "code",
   "execution_count": 6,
   "metadata": {
    "collapsed": false
   },
   "outputs": [
    {
     "name": "stdout",
     "output_type": "stream",
     "text": [
      "Accuracy:0.9352\n"
     ]
    }
   ],
   "source": [
    "x, t = get_data()\n",
    "network = init_network()\n",
    "accuracy_cnt = 0\n",
    "for i in range(len(x)):\n",
    "    y = predict(network, x[i])\n",
    "    p= np.argmax(y) # 확률이 가장 높은 인덱스 값을 가져옴.\n",
    "    if p == t[i]:\n",
    "        accuracy_cnt += 1\n",
    "\n",
    "print(\"Accuracy:\" + str(float(accuracy_cnt) / len(x)))"
   ]
  },
  {
   "cell_type": "code",
   "execution_count": 18,
   "metadata": {
    "collapsed": true
   },
   "outputs": [],
   "source": [
    "# 배치 처리하기.\n",
    "\n",
    "x, _ = get_data()\n",
    "network = init_network()\n",
    "W1, W2, W3 = network['W1'], network['W2'], network['W3']"
   ]
  },
  {
   "cell_type": "code",
   "execution_count": 19,
   "metadata": {
    "collapsed": false
   },
   "outputs": [
    {
     "data": {
      "text/plain": [
       "(10000, 784)"
      ]
     },
     "execution_count": 19,
     "metadata": {},
     "output_type": "execute_result"
    }
   ],
   "source": [
    "x.shape"
   ]
  },
  {
   "cell_type": "code",
   "execution_count": 20,
   "metadata": {
    "collapsed": false
   },
   "outputs": [
    {
     "data": {
      "text/plain": [
       "(784,)"
      ]
     },
     "execution_count": 20,
     "metadata": {},
     "output_type": "execute_result"
    }
   ],
   "source": [
    "x[0].shape"
   ]
  },
  {
   "cell_type": "code",
   "execution_count": 21,
   "metadata": {
    "collapsed": false
   },
   "outputs": [
    {
     "data": {
      "text/plain": [
       "(784, 50)"
      ]
     },
     "execution_count": 21,
     "metadata": {},
     "output_type": "execute_result"
    }
   ],
   "source": [
    "W1.shape"
   ]
  },
  {
   "cell_type": "code",
   "execution_count": 22,
   "metadata": {
    "collapsed": false
   },
   "outputs": [
    {
     "data": {
      "text/plain": [
       "(50, 100)"
      ]
     },
     "execution_count": 22,
     "metadata": {},
     "output_type": "execute_result"
    }
   ],
   "source": [
    "W2.shape"
   ]
  },
  {
   "cell_type": "code",
   "execution_count": 23,
   "metadata": {
    "collapsed": false
   },
   "outputs": [
    {
     "data": {
      "text/plain": [
       "(100, 10)"
      ]
     },
     "execution_count": 23,
     "metadata": {},
     "output_type": "execute_result"
    }
   ],
   "source": [
    "W3.shape"
   ]
  },
  {
   "cell_type": "code",
   "execution_count": 26,
   "metadata": {
    "collapsed": true
   },
   "outputs": [],
   "source": [
    "# 784 : 784 * 50 : 50 * 100 : 100*10 => 10\n",
    "# 위 결과에서 다차원 배열의 대응하는 차원의 원소 수가 일치함을 확인할 수 있습니다.(편향생략)\n",
    "# 위 과정을 하나로 묶어 처리하면 더 쉽게 처리할 수 있으며 이를 '배치'처리라고 합니다."
   ]
  },
  {
   "cell_type": "code",
   "execution_count": 32,
   "metadata": {
    "collapsed": true
   },
   "outputs": [],
   "source": [
    "x, t = get_data()\n",
    "network = init_network()"
   ]
  },
  {
   "cell_type": "code",
   "execution_count": 33,
   "metadata": {
    "collapsed": true
   },
   "outputs": [],
   "source": [
    "batch_size = 100\n",
    "accuracy_cnt = 0"
   ]
  },
  {
   "cell_type": "code",
   "execution_count": 34,
   "metadata": {
    "collapsed": false
   },
   "outputs": [
    {
     "name": "stdout",
     "output_type": "stream",
     "text": [
      "Accuracy : 0.0096\n",
      "Accuracy : 0.0194\n",
      "Accuracy : 0.0287\n",
      "Accuracy : 0.0377\n",
      "Accuracy : 0.0471\n",
      "Accuracy : 0.056\n",
      "Accuracy : 0.0653\n",
      "Accuracy : 0.0748\n",
      "Accuracy : 0.0841\n",
      "Accuracy : 0.0932\n",
      "Accuracy : 0.1024\n",
      "Accuracy : 0.1114\n",
      "Accuracy : 0.1201\n",
      "Accuracy : 0.1293\n",
      "Accuracy : 0.1383\n",
      "Accuracy : 0.1473\n",
      "Accuracy : 0.1564\n",
      "Accuracy : 0.1651\n",
      "Accuracy : 0.1743\n",
      "Accuracy : 0.1831\n",
      "Accuracy : 0.1921\n",
      "Accuracy : 0.2009\n",
      "Accuracy : 0.2105\n",
      "Accuracy : 0.2197\n",
      "Accuracy : 0.2289\n",
      "Accuracy : 0.2379\n",
      "Accuracy : 0.2473\n",
      "Accuracy : 0.2567\n",
      "Accuracy : 0.2662\n",
      "Accuracy : 0.2753\n",
      "Accuracy : 0.285\n",
      "Accuracy : 0.2939\n",
      "Accuracy : 0.3034\n",
      "Accuracy : 0.3131\n",
      "Accuracy : 0.3223\n",
      "Accuracy : 0.3314\n",
      "Accuracy : 0.3408\n",
      "Accuracy : 0.3496\n",
      "Accuracy : 0.3577\n",
      "Accuracy : 0.3667\n",
      "Accuracy : 0.3759\n",
      "Accuracy : 0.3851\n",
      "Accuracy : 0.3941\n",
      "Accuracy : 0.403\n",
      "Accuracy : 0.412\n",
      "Accuracy : 0.4214\n",
      "Accuracy : 0.4311\n",
      "Accuracy : 0.4405\n",
      "Accuracy : 0.4493\n",
      "Accuracy : 0.4587\n",
      "Accuracy : 0.468\n",
      "Accuracy : 0.4777\n",
      "Accuracy : 0.4875\n",
      "Accuracy : 0.4974\n",
      "Accuracy : 0.5072\n",
      "Accuracy : 0.5172\n",
      "Accuracy : 0.5264\n",
      "Accuracy : 0.5361\n",
      "Accuracy : 0.5454\n",
      "Accuracy : 0.5544\n",
      "Accuracy : 0.5636\n",
      "Accuracy : 0.573\n",
      "Accuracy : 0.583\n",
      "Accuracy : 0.5926\n",
      "Accuracy : 0.6023\n",
      "Accuracy : 0.6114\n",
      "Accuracy : 0.6207\n",
      "Accuracy : 0.6295\n",
      "Accuracy : 0.6393\n",
      "Accuracy : 0.6491\n",
      "Accuracy : 0.6591\n",
      "Accuracy : 0.6688\n",
      "Accuracy : 0.6785\n",
      "Accuracy : 0.6884\n",
      "Accuracy : 0.6977\n",
      "Accuracy : 0.7074\n",
      "Accuracy : 0.7174\n",
      "Accuracy : 0.7273\n",
      "Accuracy : 0.7357\n",
      "Accuracy : 0.745\n",
      "Accuracy : 0.7543\n",
      "Accuracy : 0.7641\n",
      "Accuracy : 0.7737\n",
      "Accuracy : 0.7834\n",
      "Accuracy : 0.793\n",
      "Accuracy : 0.8027\n",
      "Accuracy : 0.8127\n",
      "Accuracy : 0.8227\n",
      "Accuracy : 0.8326\n",
      "Accuracy : 0.8426\n",
      "Accuracy : 0.8516\n",
      "Accuracy : 0.8615\n",
      "Accuracy : 0.8713\n",
      "Accuracy : 0.8812\n",
      "Accuracy : 0.8905\n",
      "Accuracy : 0.9001\n",
      "Accuracy : 0.9091\n",
      "Accuracy : 0.9172\n",
      "Accuracy : 0.9261\n",
      "Accuracy : 0.9352\n"
     ]
    }
   ],
   "source": [
    "for i in range(0, len(x), batch_size):\n",
    "    x_batch = x[i:i+batch_size]\n",
    "    y_batch = predict(network, x_batch)\n",
    "    p = np.argmax(y_batch, axis=1)    \n",
    "    accuracy_cnt += np.sum(p == t[i:i+batch_size])\n",
    "    print(\"Accuracy : \"+str(float(accuracy_cnt)/len(x)))"
   ]
  },
  {
   "cell_type": "code",
   "execution_count": 47,
   "metadata": {
    "collapsed": false
   },
   "outputs": [
    {
     "data": {
      "text/plain": [
       "[0, 1, 2, 3, 4, 5, 6, 7, 8, 9]"
      ]
     },
     "execution_count": 47,
     "metadata": {},
     "output_type": "execute_result"
    }
   ],
   "source": [
    "# 위의 결과값을 리스트로 묶어줍니다. 다음 예제로 확인하겠습니다.\n",
    "\n",
    "list(range(0,10))"
   ]
  },
  {
   "cell_type": "code",
   "execution_count": 48,
   "metadata": {
    "collapsed": false
   },
   "outputs": [
    {
     "data": {
      "text/plain": [
       "[0, 3, 6, 9]"
      ]
     },
     "execution_count": 48,
     "metadata": {},
     "output_type": "execute_result"
    }
   ],
   "source": [
    "list(range(0,10,3))"
   ]
  },
  {
   "cell_type": "code",
   "execution_count": 46,
   "metadata": {
    "collapsed": true
   },
   "outputs": [],
   "source": [
    "# 위의 예제처럼 for문에서의 range(0, len(x), batch_size) 값을 리스트로 묶어줍니다.\n",
    "# x[0:100], x[100:200] ...으로 증가할 것이며, 100개씩 묶입니다.\n",
    "# argmax()로 최대값을 가져옵니다.\n",
    "# axis = 1 : 100*10의 배열 중 첫번째 차원을 구성하는 원소에서(1번째 차원을 축으로) 각 원소 최댓값의 인덱스를 찾도록합니다.\n",
    "\n",
    "# 다음 예제를 보면 더욱 더 쉽습니다."
   ]
  },
  {
   "cell_type": "code",
   "execution_count": 40,
   "metadata": {
    "collapsed": false
   },
   "outputs": [
    {
     "name": "stdout",
     "output_type": "stream",
     "text": [
      "[1 2 1 0]\n"
     ]
    }
   ],
   "source": [
    "x = np.array([[0.1, 0.8, 0.1], [0.3,0.1,0.6], [0.2,0.5,0.3], [0.8,0.1,0.1]])\n",
    "y = np.argmax(x, axis=1)\n",
    "print(y)"
   ]
  },
  {
   "cell_type": "code",
   "execution_count": 41,
   "metadata": {
    "collapsed": false
   },
   "outputs": [
    {
     "name": "stdout",
     "output_type": "stream",
     "text": [
      "[ True  True False  True]\n"
     ]
    }
   ],
   "source": [
    "y = np.array([1,2,1,0])\n",
    "t = np.array([1,2,0,0])\n",
    "print(y==t)"
   ]
  },
  {
   "cell_type": "code",
   "execution_count": 42,
   "metadata": {
    "collapsed": false
   },
   "outputs": [
    {
     "data": {
      "text/plain": [
       "3"
      ]
     },
     "execution_count": 42,
     "metadata": {},
     "output_type": "execute_result"
    }
   ],
   "source": [
    "np.sum(y==t)"
   ]
  },
  {
   "cell_type": "code",
   "execution_count": null,
   "metadata": {
    "collapsed": true
   },
   "outputs": [],
   "source": []
  }
 ],
 "metadata": {
  "kernelspec": {
   "display_name": "Python 3",
   "language": "python",
   "name": "python3"
  },
  "language_info": {
   "codemirror_mode": {
    "name": "ipython",
    "version": 3
   },
   "file_extension": ".py",
   "mimetype": "text/x-python",
   "name": "python",
   "nbconvert_exporter": "python",
   "pygments_lexer": "ipython3",
   "version": "3.6.0"
  }
 },
 "nbformat": 4,
 "nbformat_minor": 2
}
